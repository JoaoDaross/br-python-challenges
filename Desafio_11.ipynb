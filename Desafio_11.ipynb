{
  "nbformat": 4,
  "nbformat_minor": 0,
  "metadata": {
    "anaconda-cloud": {},
    "kernelspec": {
      "display_name": "Python 3",
      "language": "python",
      "name": "python3"
    },
    "language_info": {
      "codemirror_mode": {
        "name": "ipython",
        "version": 3
      },
      "file_extension": ".py",
      "mimetype": "text/x-python",
      "name": "python",
      "nbconvert_exporter": "python",
      "pygments_lexer": "ipython3",
      "version": "3.6.5"
    },
    "colab": {
      "name": "Desafio 11.ipynb",
      "provenance": [],
      "include_colab_link": true
    }
  },
  "cells": [
    {
      "cell_type": "markdown",
      "metadata": {
        "id": "view-in-github",
        "colab_type": "text"
      },
      "source": [
        "<a href=\"https://colab.research.google.com/github/JoaoDaross/br-python-challenges/blob/master/Desafio_11.ipynb\" target=\"_parent\"><img src=\"https://colab.research.google.com/assets/colab-badge.svg\" alt=\"Open In Colab\"/></a>"
      ]
    },
    {
      "cell_type": "markdown",
      "metadata": {
        "id": "y1R0m4oWf6Jz",
        "colab_type": "text"
      },
      "source": [
        "### Desafio 8\n",
        "Dados uma sequência com `n` números inteiros, determinar quantos números da sequência são pares e quantos são ímpares. Por exemplo, para a sequência\n",
        "\n",
        "`6   2   7  -5   8  -4`\n",
        "\n",
        "a sua função deve retornar o número 4 para o número de pares e 2 para o de ímpares. A saída deve ser um tupla contendo primeiramente o número de pares e em seguida o número de ímpares. Para o exemplo anterior, a saída seria `(4, 2)`."
      ]
    },
    {
      "cell_type": "code",
      "metadata": {
        "id": "pSIzX4zUf6Jz",
        "colab_type": "code",
        "colab": {}
      },
      "source": [
        "# Seu código\n",
        "\n",
        "def contar_pares_impares(entrada):\n",
        "    contar_pares = 0\n",
        "    contar_impares = 0\n",
        "\n",
        "    for n in entrada:\n",
        "        if n % 2 == 0:\n",
        "            contar_pares += 1\n",
        "        else:\n",
        "            contar_impares +=  1 \n",
        "\n",
        "    return (contar_pares, contar_impares)"
      ],
      "execution_count": 7,
      "outputs": []
    },
    {
      "cell_type": "code",
      "metadata": {
        "id": "OQG6erslSjri",
        "colab_type": "code",
        "colab": {
          "base_uri": "https://localhost:8080/",
          "height": 34
        },
        "outputId": "7437933b-ed80-408c-fc05-ff59273cc259"
      },
      "source": [
        "exemplo = [6, 2, 7, -5, 8, -4]\n",
        "\n",
        "contar_pares_impares(exemplo)"
      ],
      "execution_count": 8,
      "outputs": [
        {
          "output_type": "execute_result",
          "data": {
            "text/plain": [
              "(4, 2)"
            ]
          },
          "metadata": {
            "tags": []
          },
          "execution_count": 8
        }
      ]
    },
    {
      "cell_type": "code",
      "metadata": {
        "id": "BSuBza0GSjyM",
        "colab_type": "code",
        "colab": {
          "base_uri": "https://localhost:8080/",
          "height": 34
        },
        "outputId": "2f6c7c5b-5acd-495d-9928-231eb6eb218f"
      },
      "source": [
        "exemplo2 = [-3, 2, 7, -5, 8, -4]\n",
        "\n",
        "contar_pares_impares(exemplo2)"
      ],
      "execution_count": 11,
      "outputs": [
        {
          "output_type": "execute_result",
          "data": {
            "text/plain": [
              "(3, 3)"
            ]
          },
          "metadata": {
            "tags": []
          },
          "execution_count": 11
        }
      ]
    },
    {
      "cell_type": "code",
      "metadata": {
        "id": "y_iM2tgF35t7",
        "colab_type": "code",
        "colab": {}
      },
      "source": [
        "# Não modifique o código abaixo! Vamos testar algumas entradas\n",
        "msg_erro = \"Saída da função para a entrada {} deveria ser {}\"\n",
        "\n",
        "entrada = [6, 2, 7, -5, 8, -4]\n",
        "saida_esperada = (4, 2)\n",
        "assert contar_pares_impares(entrada)==saida_esperada, msg_erro.format(entrada, saida_esperada)\n",
        "\n",
        "entrada = [-3, 2, 7, -5, 8, -4]\n",
        "saida_esperada = (3, 3)\n",
        "assert contar_pares_impares(entrada)==saida_esperada, msg_erro.format(entrada, saida_esperada)\n",
        "\n",
        "\n",
        "# Se nenhuma mensagem for impressa abaixo, significa que a função está implementada corretamente"
      ],
      "execution_count": null,
      "outputs": []
    },
    {
      "cell_type": "code",
      "metadata": {
        "id": "Nfb7lBpq35_6",
        "colab_type": "code",
        "colab": {}
      },
      "source": [
        ""
      ],
      "execution_count": null,
      "outputs": []
    },
    {
      "cell_type": "code",
      "metadata": {
        "id": "UwT4tLtzR3_U",
        "colab_type": "code",
        "colab": {}
      },
      "source": [
        ""
      ],
      "execution_count": null,
      "outputs": []
    }
  ]
}