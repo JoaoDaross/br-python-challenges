{
  "nbformat": 4,
  "nbformat_minor": 0,
  "metadata": {
    "anaconda-cloud": {},
    "kernelspec": {
      "display_name": "Python 3",
      "language": "python",
      "name": "python3"
    },
    "language_info": {
      "codemirror_mode": {
        "name": "ipython",
        "version": 3
      },
      "file_extension": ".py",
      "mimetype": "text/x-python",
      "name": "python",
      "nbconvert_exporter": "python",
      "pygments_lexer": "ipython3",
      "version": "3.6.5"
    },
    "colab": {
      "name": "Desafio 8.ipynb",
      "provenance": [],
      "toc_visible": true,
      "include_colab_link": true
    }
  },
  "cells": [
    {
      "cell_type": "markdown",
      "metadata": {
        "id": "view-in-github",
        "colab_type": "text"
      },
      "source": [
        "<a href=\"https://colab.research.google.com/github/JoaoDaross/br-python-challenges/blob/master/Desafio_08.ipynb\" target=\"_parent\"><img src=\"https://colab.research.google.com/assets/colab-badge.svg\" alt=\"Open In Colab\"/></a>"
      ]
    },
    {
      "cell_type": "markdown",
      "metadata": {
        "id": "o3tkeMDNf6Jo",
        "colab_type": "text"
      },
      "source": [
        "### Desafio 8\n",
        "\n",
        "Escreva um script Python para encontrar as 10 palavras mais longas em um arquivo.\n",
        "\n",
        "O arquivo TXT está localizado na mesma pasta do projeto (texto.txt)."
      ]
    },
    {
      "cell_type": "code",
      "metadata": {
        "id": "EknxjSG0f6Jo",
        "colab_type": "code",
        "colab": {}
      },
      "source": [
        "# Seu código\n",
        "\n",
        "def dez_palavras_mais_longas(arquivo):\n",
        "    \n",
        "    #Recebe o path de um arquivo .TXT e identifica as 10 palavras mais longas do mesmo.\n",
        "    \n",
        "    texto = open(arquivo, 'r')\n",
        "    lista_de_palavras = texto.read().split()\n",
        "    dez_palavras = []\n",
        "    while len(dez_palavras) < 10: # lista dez_palavras com 10 palavras\n",
        "        maior_palavra = max(lista_de_palavras, key=len) # busca as 10 maiores palavras\n",
        "        dez_palavras.append(maior_palavra) # inclui as palavras encontradas na lista\n",
        "        lista_de_palavras.remove(maior_palavra) \n",
        "    texto.close() # sempre que abrir um arquivo, precisa fechar \n",
        "    return dez_palavras # retorna a lista que queremos"
      ],
      "execution_count": 46,
      "outputs": []
    },
    {
      "cell_type": "code",
      "metadata": {
        "id": "ZYbqEWBG5nKx",
        "colab_type": "code",
        "colab": {
          "base_uri": "https://localhost:8080/",
          "height": 187
        },
        "outputId": "923a9033-029b-4c56-f418-cfd7ccb5e5f6"
      },
      "source": [
        "dez_palavras_mais_longas('texto.txt')"
      ],
      "execution_count": 47,
      "outputs": [
        {
          "output_type": "execute_result",
          "data": {
            "text/plain": [
              "['general-purpose,',\n",
              " 'object-oriented,',\n",
              " 'comprehensive',\n",
              " 'intermediate)',\n",
              " 'interpreted,',\n",
              " 'language.Its',\n",
              " 'readability,',\n",
              " 'high-level,',\n",
              " 'programming',\n",
              " 'programmers']"
            ]
          },
          "metadata": {
            "tags": []
          },
          "execution_count": 47
        }
      ]
    },
    {
      "cell_type": "code",
      "metadata": {
        "id": "iJyRAMHqqDfn",
        "colab_type": "code",
        "colab": {}
      },
      "source": [
        ""
      ],
      "execution_count": null,
      "outputs": []
    }
  ]
}